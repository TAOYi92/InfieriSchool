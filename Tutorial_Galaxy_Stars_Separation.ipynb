{
 "cells": [
  {
   "cell_type": "markdown",
   "metadata": {},
   "source": [
    "# Deep learning for Star-Galaxy separation\n",
    "https://arxiv.org/pdf/1608.04369.pdf\n",
    "\n",
    "\n",
    "Most existing star-galaxy classifiers require careful feature extraction and selection. The latest advances in machine learning that use deep convolutional neural networks allow a machine to automatically learn the features directly from data, minimizing the need for input from human experts. In these lab we present a star-galaxy classification framework that uses deep convolutional neural networks to solve this problem\n",
    "\n",
    "<img src=\"https://old.ipac.caltech.edu/2mass/releases/spr99/doc/test/jarrett2/old/star_gal/jhk_lowdensity.gif\" style=\"width: 400px;\"/>"
   ]
  },
  {
   "cell_type": "markdown",
   "metadata": {},
   "source": [
    "# Section 1: Setup"
   ]
  },
  {
   "cell_type": "markdown",
   "metadata": {},
   "source": [
    "### Import libraries"
   ]
  },
  {
   "cell_type": "code",
   "execution_count": null,
   "metadata": {},
   "outputs": [],
   "source": [
    "import matplotlib as mpl\n",
    "mpl.use('Agg')\n",
    "%matplotlib inline \n",
    "import matplotlib.pyplot as plt\n",
    "import numpy as np\n",
    "from sklearn.metrics import classification_report\n",
    "from sklearn.metrics import accuracy_score\n",
    "\n",
    "#from keras.preprocessing.image import ImageDataGenerator\n",
    "from keras.models import Sequential\n",
    "from keras.layers.core import Dense, Dropout,  Flatten\n",
    "from keras.layers.convolutional import Convolution2D, MaxPooling2D\n",
    "from keras.optimizers import SGD, Adam\n",
    "from keras.layers.noise import GaussianNoise\n",
    "from keras import backend as K\n",
    "K.set_image_dim_ordering('th')\n",
    "from keras.callbacks import EarlyStopping\n",
    "from keras.callbacks import ModelCheckpoint\n",
    "from keras.constraints import maxnorm\n",
    "from keras.preprocessing.image import ImageDataGenerator\n",
    "import pandas as pd"
   ]
  },
  {
   "cell_type": "markdown",
   "metadata": {},
   "source": [
    "### SET PATH\n",
    "Set the path to the folder containing the inputs datasets:"
   ]
  },
  {
   "cell_type": "code",
   "execution_count": null,
   "metadata": {},
   "outputs": [],
   "source": [
    "pathinData = 'input_starvsgalaxy/"
   ]
  },
  {
   "cell_type": "markdown",
   "metadata": {},
   "source": [
    "# Section 2: Load Data\n",
    "\n",
    "Let's now load the data and define the different classes we want to classify"
   ]
  },
  {
   "cell_type": "code",
   "execution_count": null,
   "metadata": {},
   "outputs": [],
   "source": [
    "X_tot = np.load(pathinData+'StarGalaxy_Images1.npy')\n",
    "Y_cat =  pd.read_pickle(pathinData+'StarGalaxy_pandas1')\n",
    "\n",
    "Y_cat.loc[Y_cat['class'] == 'STAR', 'class'] = 1.\n",
    "Y_cat.loc[Y_cat['class'] == 'QSO', 'class'] = 1.\n",
    "Y_cat.loc[Y_cat['class'] == 'GALAXY', 'class'] = 0.\n",
    "\n",
    "\n",
    "\n",
    "x = Y_cat.as_matrix(['class'])\n",
    "\n",
    "\n",
    "\n",
    "Y_tot = []\n",
    "for i in range (len(x)):\n",
    "    if x[i] == 0:\n",
    "        Y_tot = np.append(Y_tot,0.)\n",
    "    else:\n",
    "        Y_tot = np.append(Y_tot,1.)\n",
    "    \n",
    "\n",
    "        \n",
    "\n",
    "X_tot = np.moveaxis(X_tot, 3, 1)"
   ]
  },
  {
   "cell_type": "markdown",
   "metadata": {},
   "source": [
    "Divide in training and validation. Use 1/10 for the validation."
   ]
  },
  {
   "cell_type": "code",
   "execution_count": null,
   "metadata": {},
   "outputs": [],
   "source": [
    "# Spliting in Training and Test datasets\n",
    "X_train = X_tot[0:len(X_tot)//5*4,:,:,:]\n",
    "Y_train = Y_tot[0:len(Y_tot)//5*4,]\n",
    "X_test = X_tot[len(X_tot)//5*4:,:,:,:]\n",
    "Y_test = Y_tot[len(Y_tot)//5*4:,]"
   ]
  },
  {
   "cell_type": "markdown",
   "metadata": {},
   "source": [
    "# Section 3: Build the CNN models\n",
    "Define the model yourself based on the summary. "
   ]
  },
  {
   "cell_type": "code",
   "execution_count": null,
   "metadata": {},
   "outputs": [],
   "source": [
    "def Model():\n",
    "    \n",
    "    #Enter your code here\n",
    "     \n",
    "    return model"
   ]
  },
  {
   "cell_type": "markdown",
   "metadata": {},
   "source": [
    "# Section 4: Build a training module\n",
    "\n",
    "Fit the model. You have to decide which loss function to use, which optimizer, whether or not to use data augmentation, EarlyStopping, etc..."
   ]
  },
  {
   "cell_type": "code",
   "execution_count": null,
   "metadata": {},
   "outputs": [],
   "source": [
    "Model()"
   ]
  },
  {
   "cell_type": "code",
   "execution_count": null,
   "metadata": {},
   "outputs": [],
   "source": [
    "#==================\n",
    "# FIT MODEL\n",
    "#==================\n",
    "def Fit_Model(X_train, X_test,  Y_train, Y_test,  model):\n",
    "    \n",
    "    #Insert your code here\n",
    "  \n",
    "     return model\n"
   ]
  },
  {
   "cell_type": "markdown",
   "metadata": {},
   "source": [
    "# Section 5: Train and Validate"
   ]
  },
  {
   "cell_type": "code",
   "execution_count": null,
   "metadata": {},
   "outputs": [],
   "source": [
    "model =Model()\n",
    "model.summary()\n",
    "print('-'*30)\n",
    "print('Fitting model...')\n",
    "print('-'*30)\n",
    "model = Fit_Model(X_train, X_test, Y_train, Y_test, model)\n",
    "#then SAVE the MODEL \n",
    "model.save(pathinData+'Model.h5')\n"
   ]
  },
  {
   "cell_type": "markdown",
   "metadata": {},
   "source": [
    "# Section 6: Evaluate the model\n",
    "\n",
    "Let's now evaluate the model by plotting the ROC curve"
   ]
  },
  {
   "cell_type": "code",
   "execution_count": null,
   "metadata": {},
   "outputs": [],
   "source": [
    "pred=model.predict_classes(X_test)\n",
    "print(classification_report(pred,Y_test))\n",
    "\n",
    "from sklearn.metrics import accuracy_score\n",
    "print(\"Accuracy score \", accuracy_score(Y_test, pred))\n",
    "\n",
    "pred2=model.predict_proba(X_test)\n",
    "\n",
    "\n",
    "from sklearn.metrics import roc_curve,auc\n",
    "fpr,tpr,thresholds=roc_curve(Y_test, pred2,pos_label=None, sample_weight=None)\n",
    "auc = auc(fpr, tpr)\n",
    "\n",
    "plt.figure(figsize=(12,12))\n",
    "plt.plot(fpr, tpr, color = 'r', label = \"ROC curve\")\n",
    "plt.plot([0, 1], [0, 1], color='navy', lw=2, linestyle='--', label = \"Random guess\")\n",
    "plt.legend(loc = \"lower right\")\n",
    "plt.xlabel('False Positive rate', fontsize = 12)\n",
    "plt.ylabel('True Positive rate', fontsize = 12)\n",
    "plt.text(0.68, 0.1, 'AUC: %.3f' % auc)\n",
    "plt.savefig('ROC.png', bbox_inches='tight')\n"
   ]
  },
  {
   "cell_type": "markdown",
   "metadata": {},
   "source": [
    "# Section 7: Calculate the Youden value"
   ]
  },
  {
   "cell_type": "code",
   "execution_count": null,
   "metadata": {},
   "outputs": [],
   "source": [
    "Youden_index = tpr - fpr\n",
    "i_max = np.argmax(Youden_index)\n",
    "cut_value = thresholds[i_max]\n",
    "\n",
    "print(\"The optimal cut value is: \" + str(cut_value))"
   ]
  }
 ],
 "metadata": {
  "kernelspec": {
   "display_name": "Python 3",
   "language": "python",
   "name": "python3"
  },
  "language_info": {
   "codemirror_mode": {
    "name": "ipython",
    "version": 3
   },
   "file_extension": ".py",
   "mimetype": "text/x-python",
   "name": "python",
   "nbconvert_exporter": "python",
   "pygments_lexer": "ipython3",
   "version": "3.6.6"
  }
 },
 "nbformat": 4,
 "nbformat_minor": 2
}
